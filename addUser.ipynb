{
 "cells": [
  {
   "cell_type": "code",
   "execution_count": 2,
   "metadata": {
    "ExecuteTime": {
     "end_time": "2024-02-18T03:45:48.881825300Z",
     "start_time": "2024-02-18T03:45:48.795521800Z"
    }
   },
   "outputs": [],
   "source": [
    "\n",
    "# coding=utf-8\n",
    "import re\n",
    "import requests\n",
    "\n",
    "def extract_info(text):\n",
    "    # 姓名的正则表达式\n",
    "    name_regex = r'[\\u4e00-\\u9fa5]+'\n",
    "    # 身份证号的正则表达式\n",
    "    id_regex = r'\\d{17}[\\dX]'\n",
    "    \n",
    "    # 使用正则表达式匹配姓名和身份证号\n",
    "    name_match = re.search(name_regex, text)\n",
    "    id_match = re.search(id_regex, text)\n",
    "    \n",
    "    # 如果都匹配成功，则返回匹配结果，否则返回None\n",
    "    if name_match and id_match:\n",
    "        return name_match.group(), id_match.group()\n",
    "    else:\n",
    "        return None\n"
   ]
  },
  {
   "cell_type": "code",
   "execution_count": 3,
   "metadata": {
    "ExecuteTime": {
     "end_time": "2024-02-18T03:46:44.344311800Z",
     "start_time": "2024-02-18T03:45:48.882824800Z"
    }
   },
   "outputs": [
    {
     "name": "stdout",
     "output_type": "stream",
     "text": [
      "郑争妍\n",
      "|650103197504121322| len:18\n",
      "return_code: 27937161\n",
      " 添加成功！\n",
      "韩紫绮\n",
      "|650103201002081323| len:18\n",
      "return_code: 27937168\n",
      " 添加成功！\n",
      "李艳\n",
      "|652301197501130821| len:18\n",
      "return_code: 27937173\n",
      " 添加成功！\n",
      "闫玉伸\n",
      "|652301198203135223| len:18\n",
      "return_code: 27937177\n",
      " 添加成功！\n",
      "马艺阁\n",
      "|650104201005117324| len:18\n",
      "return_code: 27937180\n",
      " 添加成功！\n"
     ]
    },
    {
     "ename": "TypeError",
     "evalue": "cannot unpack non-iterable NoneType object",
     "output_type": "error",
     "traceback": [
      "\u001b[1;31m---------------------------------------------------------------------------\u001b[0m",
      "\u001b[1;31mTypeError\u001b[0m                                 Traceback (most recent call last)",
      "Cell \u001b[1;32mIn[3], line 28\u001b[0m\n\u001b[0;32m     10\u001b[0m \u001b[38;5;28;01mwhile\u001b[39;00m \u001b[38;5;28;01mTrue\u001b[39;00m:\n\u001b[0;32m     11\u001b[0m     headers \u001b[38;5;241m=\u001b[39m {\n\u001b[0;32m     12\u001b[0m         \u001b[38;5;124m'\u001b[39m\u001b[38;5;124mAccept\u001b[39m\u001b[38;5;124m'\u001b[39m: \u001b[38;5;124m'\u001b[39m\u001b[38;5;124mapplication/json, text/javascript, */*; q=0.01\u001b[39m\u001b[38;5;124m'\u001b[39m,\n\u001b[0;32m     13\u001b[0m         \u001b[38;5;124m'\u001b[39m\u001b[38;5;124mAccept-Language\u001b[39m\u001b[38;5;124m'\u001b[39m: \u001b[38;5;124m'\u001b[39m\u001b[38;5;124mzh-CN,zh;q=0.9\u001b[39m\u001b[38;5;124m'\u001b[39m,\n\u001b[1;32m   (...)\u001b[0m\n\u001b[0;32m     25\u001b[0m         \u001b[38;5;124m'\u001b[39m\u001b[38;5;124msec-ch-ua-platform\u001b[39m\u001b[38;5;124m'\u001b[39m: \u001b[38;5;124m'\u001b[39m\u001b[38;5;124m\"\u001b[39m\u001b[38;5;124mWindows\u001b[39m\u001b[38;5;124m\"\u001b[39m\u001b[38;5;124m'\u001b[39m,\n\u001b[0;32m     26\u001b[0m     }\n\u001b[1;32m---> 28\u001b[0m     name, cardNo \u001b[38;5;241m=\u001b[39m extract_info(\u001b[38;5;28minput\u001b[39m(\u001b[38;5;124m'\u001b[39m\u001b[38;5;124m请输入还有姓名与身份证号的字符：\u001b[39m\u001b[38;5;124m'\u001b[39m))\n\u001b[0;32m     29\u001b[0m     \u001b[38;5;28mprint\u001b[39m(name)\n\u001b[0;32m     30\u001b[0m     \u001b[38;5;28mprint\u001b[39m(\u001b[38;5;124mf\u001b[39m\u001b[38;5;124m'\u001b[39m\u001b[38;5;124m|\u001b[39m\u001b[38;5;132;01m{\u001b[39;00mcardNo\u001b[38;5;132;01m}\u001b[39;00m\u001b[38;5;124m| len:\u001b[39m\u001b[38;5;132;01m{\u001b[39;00m\u001b[38;5;28mlen\u001b[39m(cardNo)\u001b[38;5;132;01m}\u001b[39;00m\u001b[38;5;124m'\u001b[39m)\n",
      "\u001b[1;31mTypeError\u001b[0m: cannot unpack non-iterable NoneType object"
     ]
    }
   ],
   "source": [
    "cookies = {\n",
    "    'JSESSIONID': '0FD5A309580B2B2B4F255B803FE309C9',\n",
    "    'tfstk': 'fO5sYf0fRcmssQbBmdUeO1PL5sAb8GNzMqTArZhZkCd9kSsAjOlVkfPXDgjHQd8wbjGAYH5w3CpqGnIPuxzM0OSfhHQR71SaSEIhzaK9bF-VAnIVzO-M3o0GKg7-_1yMgjOMiIEz47Py7NADMY0bYYoMJETzgfpvHkEM6ZZz47PFkpZaXuW46tVdRExpWFLvBy9poH39MhpxvvLJvndvMippJULoBfp9D2QKdSoylr-15oruLu7sIH_9Ab_hOFFkV7xKMS1B5NxRWLhxM6T6Csa51-ykQtQkE15TGXANP9dpzNVsOQQ9PG-F27hB9w7d0LX3mbJhAs9A6d0YJHC1A1AOb-h5VCsXe1pIkj75JhOBJ_UqEH5BbiC6pzlW3BCyeCBUKlJ21UsAsGgjMgQFz1vhGuipmO8k9U7g1XORWEIzDb-5uxDjRLcvR3zQRxD2T_aHJ-lKzUv9-FOQRyi69dLHRIUQRxV6BeYUayaIfm1..',\n",
    "    'acw_tc': '76b20fec17222630103834565e5360ab019a222263487da3efc7cc80b16561',\n",
    "    'acw_sc__v2': '66a7a603ba3f3bd83deba09bbff1488094a1ed4a',\n",
    "}\n",
    "\n",
    "\n",
    "\n",
    "while True:\n",
    "    headers = {\n",
    "        'Accept': 'application/json, text/javascript, */*; q=0.01',\n",
    "        'Accept-Language': 'zh-CN,zh;q=0.9',\n",
    "        'Connection': 'keep-alive',\n",
    "        'Content-Type': 'application/x-www-form-urlencoded; charset=UTF-8',\n",
    "        'Origin': 'https://ticket.wisdommuseum.cn',\n",
    "        'Referer': 'https://ticket.wisdommuseum.cn/reservation/ticketOut/out/toOrderPC.do',\n",
    "        'Sec-Fetch-Dest': 'empty',\n",
    "        'Sec-Fetch-Mode': 'cors',\n",
    "        'Sec-Fetch-Site': 'same-origin',\n",
    "        'User-Agent': 'Mozilla/5.0 (Windows NT 10.0; Win64; x64) AppleWebKit/537.36 (KHTML, like Gecko) Chrome/121.0.0.0 Safari/537.36',\n",
    "        'X-Requested-With': 'XMLHttpRequest',\n",
    "        'sec-ch-ua': '\"Not A(Brand\";v=\"99\", \"Google Chrome\";v=\"121\", \"Chromium\";v=\"121\"',\n",
    "        'sec-ch-ua-mobile': '?0',\n",
    "        'sec-ch-ua-platform': '\"Windows\"',\n",
    "    }\n",
    "\n",
    "    name, cardNo = extract_info(input('请输入还有姓名与身份证号的字符：'))\n",
    "    print(name)\n",
    "    print(f'|{cardNo}| len:{len(cardNo)}')\n",
    "\n",
    "    data = {\n",
    "        'type': '0',\n",
    "        'id': '',\n",
    "        'name': name,\n",
    "        'cardNo': cardNo,\n",
    "    }\n",
    "    response = requests.post(\n",
    "        'https://ticket.wisdommuseum.cn/reservation/ticketOut/out/saveLinkmanPCAll.do',\n",
    "        cookies=cookies,\n",
    "        headers=headers,\n",
    "        data=data,\n",
    "    )\n",
    "    print(f'return_code:', response.text)\n",
    "    if response.text == '-1':\n",
    "        print(f'{name} 添加失败！')\n",
    "    elif response.text == '-4':\n",
    "        print('添加失败！账号人员已满...')\n",
    "    else:\n",
    "        print(' 添加成功！')\n",
    "\n"
   ]
  },
  {
   "cell_type": "code",
   "execution_count": null,
   "metadata": {
    "ExecuteTime": {
     "start_time": "2024-02-18T03:46:44.345312600Z"
    }
   },
   "outputs": [],
   "source": [
    "\n"
   ]
  }
 ],
 "metadata": {
  "kernelspec": {
   "display_name": "base",
   "language": "python",
   "name": "python3"
  },
  "language_info": {
   "codemirror_mode": {
    "name": "ipython",
    "version": 3
   },
   "file_extension": ".py",
   "mimetype": "text/x-python",
   "name": "python",
   "nbconvert_exporter": "python",
   "pygments_lexer": "ipython3",
   "version": "3.11.5"
  }
 },
 "nbformat": 4,
 "nbformat_minor": 2
}
