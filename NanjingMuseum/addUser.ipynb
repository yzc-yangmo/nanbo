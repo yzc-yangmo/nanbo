{
 "cells": [
  {
   "cell_type": "code",
   "execution_count": 1,
   "metadata": {
    "ExecuteTime": {
     "end_time": "2024-02-18T03:45:48.881825300Z",
     "start_time": "2024-02-18T03:45:48.795521800Z"
    }
   },
   "outputs": [],
   "source": [
    "\n",
    "# coding=utf-8\n",
    "import re\n",
    "import requests\n",
    "\n",
    "def extract_info(text):\n",
    "    # 姓名的正则表达式\n",
    "    name_regex = r'[\\u4e00-\\u9fa5]+'\n",
    "    # 身份证号的正则表达式\n",
    "    id_regex = r'\\d{17}[\\dX]'\n",
    "    \n",
    "    # 使用正则表达式匹配姓名和身份证号\n",
    "    name_match = re.search(name_regex, text)\n",
    "    id_match = re.search(id_regex, text)\n",
    "    \n",
    "    # 如果都匹配成功，则返回匹配结果，否则返回None\n",
    "    if name_match and id_match:\n",
    "        return name_match.group(), id_match.group()\n",
    "    else:\n",
    "        return None\n"
   ]
  },
  {
   "cell_type": "code",
   "execution_count": 2,
   "metadata": {
    "ExecuteTime": {
     "end_time": "2024-02-18T03:46:44.344311800Z",
     "start_time": "2024-02-18T03:45:48.882824800Z"
    }
   },
   "outputs": [
    {
     "name": "stdout",
     "output_type": "stream",
     "text": [
      "金一\n",
      "|331004200010062547| len:18\n",
      "return_code: 23480821\n",
      " 添加成功！\n",
      "曹娟\n",
      "|341181199606303027| len:18\n",
      "return_code: 23480832\n",
      " 添加成功！\n"
     ]
    },
    {
     "ename": "TypeError",
     "evalue": "cannot unpack non-iterable NoneType object",
     "output_type": "error",
     "traceback": [
      "\u001B[1;31m---------------------------------------------------------------------------\u001B[0m",
      "\u001B[1;31mTypeError\u001B[0m                                 Traceback (most recent call last)",
      "Cell \u001B[1;32mIn[2], line 30\u001B[0m\n\u001B[0;32m     12\u001B[0m \u001B[38;5;28;01mwhile\u001B[39;00m \u001B[38;5;28;01mTrue\u001B[39;00m:\n\u001B[0;32m     13\u001B[0m     headers \u001B[38;5;241m=\u001B[39m {\n\u001B[0;32m     14\u001B[0m         \u001B[38;5;124m'\u001B[39m\u001B[38;5;124mAccept\u001B[39m\u001B[38;5;124m'\u001B[39m: \u001B[38;5;124m'\u001B[39m\u001B[38;5;124mapplication/json, text/javascript, */*; q=0.01\u001B[39m\u001B[38;5;124m'\u001B[39m,\n\u001B[0;32m     15\u001B[0m         \u001B[38;5;124m'\u001B[39m\u001B[38;5;124mAccept-Language\u001B[39m\u001B[38;5;124m'\u001B[39m: \u001B[38;5;124m'\u001B[39m\u001B[38;5;124mzh-CN,zh;q=0.9\u001B[39m\u001B[38;5;124m'\u001B[39m,\n\u001B[1;32m   (...)\u001B[0m\n\u001B[0;32m     27\u001B[0m         \u001B[38;5;124m'\u001B[39m\u001B[38;5;124msec-ch-ua-platform\u001B[39m\u001B[38;5;124m'\u001B[39m: \u001B[38;5;124m'\u001B[39m\u001B[38;5;124m\"\u001B[39m\u001B[38;5;124mWindows\u001B[39m\u001B[38;5;124m\"\u001B[39m\u001B[38;5;124m'\u001B[39m,\n\u001B[0;32m     28\u001B[0m     }\n\u001B[1;32m---> 30\u001B[0m     name, cardNo \u001B[38;5;241m=\u001B[39m extract_info(\u001B[38;5;28minput\u001B[39m(\u001B[38;5;124m'\u001B[39m\u001B[38;5;124m请输入还有姓名与身份证号的字符：\u001B[39m\u001B[38;5;124m'\u001B[39m))\n\u001B[0;32m     31\u001B[0m     \u001B[38;5;28mprint\u001B[39m(name)\n\u001B[0;32m     32\u001B[0m     \u001B[38;5;28mprint\u001B[39m(\u001B[38;5;124mf\u001B[39m\u001B[38;5;124m'\u001B[39m\u001B[38;5;124m|\u001B[39m\u001B[38;5;132;01m{\u001B[39;00mcardNo\u001B[38;5;132;01m}\u001B[39;00m\u001B[38;5;124m| len:\u001B[39m\u001B[38;5;132;01m{\u001B[39;00m\u001B[38;5;28mlen\u001B[39m(cardNo)\u001B[38;5;132;01m}\u001B[39;00m\u001B[38;5;124m'\u001B[39m)\n",
      "\u001B[1;31mTypeError\u001B[0m: cannot unpack non-iterable NoneType object"
     ]
    }
   ],
   "source": [
    "\n",
    "cookies = {\n",
    "    'JSESSIONID': '0ADB539E2211679ECC6016D8293B8040',\n",
    "    'UM_distinctid': '18b7a3285177ff-0d931be07d2d72-26031151-1bcab9-18b7a328518125d',\n",
    "    'CNZZDATA1281245212': '160630283-1698562213-https%253A%252F%252Fwww.njmuseum.com%252F%7C1698566518',\n",
    "    'tfstk': 'euEDznbAfruboT-QeSnf29PEhGb-cIi_b5Kt6chNzblWX-CbMhDZZJwvD1iYjl2LCrLYHRlgSbyTknBjWFogdScxWmlOjfV4thhjHfFusJeEgnQjBhV7IWPi5tGt_fVTQrBRvMebhciwj6Idvzzd4L5d0SVmb-isb_hOSzJ3hWLaICsUALTosKE1W2lHKZVqn7vtLXyqg-eY4Cu2l-clQOruuqcejbxwbuDc4r8y8V-pfYWTqFTsuYMo9LK_6BMQsq-OETYC4qkShgXlEFTsuYMo9TXk8UuqFxsl.',\n",
    "    'acw_tc': '76b20ffc17082278421497090e20503f59930e72f776691155ee75d46607db',\n",
    "    'acw_sc__v2': '65d17d15748c4c266d7bb18247c78f45bfc506f7',\n",
    "}\n",
    "\n",
    "\n",
    "\n",
    "while True:\n",
    "    headers = {\n",
    "        'Accept': 'application/json, text/javascript, */*; q=0.01',\n",
    "        'Accept-Language': 'zh-CN,zh;q=0.9',\n",
    "        'Connection': 'keep-alive',\n",
    "        'Content-Type': 'application/x-www-form-urlencoded; charset=UTF-8',\n",
    "        'Origin': 'https://ticket.wisdommuseum.cn',\n",
    "        'Referer': 'https://ticket.wisdommuseum.cn/reservation/ticketOut/out/toOrderPC.do',\n",
    "        'Sec-Fetch-Dest': 'empty',\n",
    "        'Sec-Fetch-Mode': 'cors',\n",
    "        'Sec-Fetch-Site': 'same-origin',\n",
    "        'User-Agent': 'Mozilla/5.0 (Windows NT 10.0; Win64; x64) AppleWebKit/537.36 (KHTML, like Gecko) Chrome/121.0.0.0 Safari/537.36',\n",
    "        'X-Requested-With': 'XMLHttpRequest',\n",
    "        'sec-ch-ua': '\"Not A(Brand\";v=\"99\", \"Google Chrome\";v=\"121\", \"Chromium\";v=\"121\"',\n",
    "        'sec-ch-ua-mobile': '?0',\n",
    "        'sec-ch-ua-platform': '\"Windows\"',\n",
    "    }\n",
    "\n",
    "    name, cardNo = extract_info(input('请输入还有姓名与身份证号的字符：'))\n",
    "    print(name)\n",
    "    print(f'|{cardNo}| len:{len(cardNo)}')\n",
    "\n",
    "    data = {\n",
    "        'type': '0',\n",
    "        'id': '',\n",
    "        'name': name,\n",
    "        'cardNo': cardNo,\n",
    "    }\n",
    "    response = requests.post(\n",
    "        'https://ticket.wisdommuseum.cn/reservation/ticketOut/out/saveLinkmanPCAll.do',\n",
    "        cookies=cookies,\n",
    "        headers=headers,\n",
    "        data=data,\n",
    "    )\n",
    "    print(f'return_code:', response.text)\n",
    "    if response.text == '-1':\n",
    "        print(f'{name} 添加失败！')\n",
    "    elif response.text == '-4':\n",
    "        print('添加失败！账号人员已满...')\n",
    "    else:\n",
    "        print(' 添加成功！')\n",
    "\n"
   ]
  },
  {
   "cell_type": "code",
   "execution_count": null,
   "metadata": {
    "ExecuteTime": {
     "start_time": "2024-02-18T03:46:44.345312600Z"
    }
   },
   "outputs": [],
   "source": [
    "\n"
   ]
  }
 ],
 "metadata": {
  "kernelspec": {
   "display_name": "base",
   "language": "python",
   "name": "python3"
  },
  "language_info": {
   "codemirror_mode": {
    "name": "ipython",
    "version": 3
   },
   "file_extension": ".py",
   "mimetype": "text/x-python",
   "name": "python",
   "nbconvert_exporter": "python",
   "pygments_lexer": "ipython3",
   "version": "3.11.5"
  }
 },
 "nbformat": 4,
 "nbformat_minor": 2
}
