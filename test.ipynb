{
 "cells": [
  {
   "cell_type": "code",
   "execution_count": 2,
   "metadata": {},
   "outputs": [],
   "source": [
    "import os\n",
    "from docx import Document\n",
    "\n",
    "def search_in_docx(file_path, name_to_search):\n",
    "    try:\n",
    "        doc = Document(file_path)\n",
    "        for para in doc.paragraphs:\n",
    "            if name_to_search in para.text:\n",
    "                return True\n",
    "    except Exception as e:\n",
    "        print(f\"Error reading {file_path}: {e}\")\n",
    "    return False\n",
    "\n",
    "def find_docs_with_name(directory, name_to_search):\n",
    "    for root, dirs, files in os.walk(directory):\n",
    "        for file in files:\n",
    "            if file.endswith('.docx'):  # 检查文件扩展名是否为Word文档\n",
    "                file_path = os.path.join(root, file)\n",
    "                if search_in_docx(file_path, name_to_search):\n",
    "                    print(f\"Found '{name_to_search}' in {file_path}\")\n",
    "\n",
    "# 要搜索的文件夹路径\n",
    "directory_path = r\"D:\\Desktop\\院级通报(最终版）\\计算机与信息技术学院\"\n",
    "# 要搜索的姓名\n",
    "name_to_find = '杨自创'\n",
    "\n",
    "find_docs_with_name(directory_path, name_to_find)"
   ]
  }
 ],
 "metadata": {
  "kernelspec": {
   "display_name": "base",
   "language": "python",
   "name": "python3"
  },
  "language_info": {
   "codemirror_mode": {
    "name": "ipython",
    "version": 3
   },
   "file_extension": ".py",
   "mimetype": "text/x-python",
   "name": "python",
   "nbconvert_exporter": "python",
   "pygments_lexer": "ipython3",
   "version": "3.11.5"
  }
 },
 "nbformat": 4,
 "nbformat_minor": 2
}
